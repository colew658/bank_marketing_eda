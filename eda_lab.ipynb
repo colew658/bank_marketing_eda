{
 "cells": [
  {
   "cell_type": "markdown",
   "id": "5a4ea639-8df0-4910-a922-11c6bf44167e",
   "metadata": {},
   "source": [
    "# Business Understanding"
   ]
  },
  {
   "cell_type": "markdown",
   "id": "ee6ffb5c-67ab-4c24-bb5b-b17a676f65fd",
   "metadata": {},
   "source": [
    "This dataset is from a Portuguese financial institution and aims to determine whether potential customers will enter into a term deposit with the bank based on a number of factors. This data was collected through phone calls with potential customers, and is highly valuable information for this institution as well as any other financial institutions across the globe. For example, banks can use this information to identify high-potential customers and allocate their marketing resources more effectively. We believe that an AUC of 0.7 or higher would be valuable information for banks around the world, especially because we are dealing with a somewhat sizable dataset. An AUC of 0.8 or higher would certainly be of use to other institutions. The higher the AUC, the more confident that can be in allocating resources towards certain groups of people."
   ]
  },
  {
   "cell_type": "code",
   "execution_count": 100,
   "id": "77f7fe91-9262-4b89-9a4d-2bf9c1dcf37e",
   "metadata": {},
   "outputs": [],
   "source": [
    "import pandas as pd\n",
    "import numpy as np\n",
    "import matplotlib.pyplot as plt\n",
    "import missingno as mn"
   ]
  },
  {
   "cell_type": "code",
   "execution_count": 102,
   "id": "54660e4d-711d-4f98-873d-56d3cff5ab70",
   "metadata": {},
   "outputs": [],
   "source": [
    "bank_data = pd.read_csv(\"bank-full.csv\", delimiter=\";\")"
   ]
  },
  {
   "cell_type": "markdown",
   "id": "0fe9d312-70f1-45af-8acf-dbfcadf8d386",
   "metadata": {},
   "source": [
    "# Data Description"
   ]
  },
  {
   "cell_type": "code",
   "execution_count": 41,
   "id": "bd8ffa79-4acb-44b3-a53b-2200f2591496",
   "metadata": {},
   "outputs": [
    {
     "data": {
      "text/plain": [
       "age           int64\n",
       "job          object\n",
       "marital      object\n",
       "education    object\n",
       "default      object\n",
       "balance       int64\n",
       "housing      object\n",
       "loan         object\n",
       "contact      object\n",
       "day           int64\n",
       "month        object\n",
       "duration      int64\n",
       "campaign      int64\n",
       "pdays         int64\n",
       "previous      int64\n",
       "poutcome     object\n",
       "y            object\n",
       "dtype: object"
      ]
     },
     "execution_count": 41,
     "metadata": {},
     "output_type": "execute_result"
    }
   ],
   "source": [
    "bank_data.dtypes"
   ]
  },
  {
   "cell_type": "markdown",
   "id": "390f203f-4db7-427a-9c29-e83c8d7082a1",
   "metadata": {},
   "source": [
    "**age: int64**\n",
    "- The age of the potential customer. Ranges from 18 to 95 years old.\n",
    "\n",
    "**job: object**\n",
    "- The potential customer's job category. There are 12 total categories of jobs, one of which is \"unknown\", which we will treat as missing.\n",
    "\n",
    "**marital: object**\n",
    "- The potential customer's marital status. This can be \"married\", \"single\", or \"divorced\".\n",
    "\n",
    "**education: object**\n",
    "- The education level of the potential customer. The categories for this variable are \"secondary\", \"tertiary\", \"primary\", or \"unknown\" (which will be treated as missing).\n",
    "\n",
    "**default: object**\n",
    "- A binary variable that describes whether or not the potential customer has credit in default. The two factor levels for this variable are \"yes\" and \"no\"."
   ]
  },
  {
   "cell_type": "code",
   "execution_count": 49,
   "id": "ec32a3a8-02de-4509-a4ba-f87ea4e317bb",
   "metadata": {},
   "outputs": [
    {
     "data": {
      "text/plain": [
       "default\n",
       "no     44396\n",
       "yes      815\n",
       "Name: count, dtype: int64"
      ]
     },
     "execution_count": 49,
     "metadata": {},
     "output_type": "execute_result"
    }
   ],
   "source": [
    "bank_data.default.value_counts()"
   ]
  },
  {
   "cell_type": "markdown",
   "id": "21e001cb-7ac5-4e95-b654-72b9862b954c",
   "metadata": {},
   "source": [
    "# Data Quality"
   ]
  },
  {
   "cell_type": "markdown",
   "id": "e2083396-394b-4d9b-b0c5-55023ee68c4a",
   "metadata": {},
   "source": [
    "### Duplicate Data"
   ]
  },
  {
   "cell_type": "code",
   "execution_count": 59,
   "id": "5b3e0e16-27fc-41be-8338-211ee1ee375d",
   "metadata": {},
   "outputs": [
    {
     "data": {
      "text/plain": [
       "0"
      ]
     },
     "execution_count": 59,
     "metadata": {},
     "output_type": "execute_result"
    }
   ],
   "source": [
    "sum(bank_data.duplicated())"
   ]
  },
  {
   "cell_type": "markdown",
   "id": "f907349d-9768-471c-a84e-23da00fba0c9",
   "metadata": {},
   "source": [
    "The above code shows that there are no duplicate rows in our data. The duplicated() function returns a boolean series, and the sum function adds up all the boolean values as True=1 and False=0. Because the sum of the series is 0, we know that there are no duplicates. As a result, no rows need to be removed due to duplication."
   ]
  },
  {
   "cell_type": "markdown",
   "id": "2a62c7b1-4c37-4c36-82f7-1ac292f42b7e",
   "metadata": {},
   "source": [
    "### Missing Data"
   ]
  },
  {
   "cell_type": "code",
   "execution_count": 68,
   "id": "4e36afd1-fbbd-4cd9-9927-98d8fba0d828",
   "metadata": {},
   "outputs": [
    {
     "data": {
      "text/plain": [
       "age          0\n",
       "job          0\n",
       "marital      0\n",
       "education    0\n",
       "default      0\n",
       "balance      0\n",
       "housing      0\n",
       "loan         0\n",
       "contact      0\n",
       "day          0\n",
       "month        0\n",
       "duration     0\n",
       "campaign     0\n",
       "pdays        0\n",
       "previous     0\n",
       "poutcome     0\n",
       "y            0\n",
       "dtype: int64"
      ]
     },
     "execution_count": 68,
     "metadata": {},
     "output_type": "execute_result"
    }
   ],
   "source": [
    "bank_data.isnull().sum()"
   ]
  },
  {
   "cell_type": "markdown",
   "id": "510a5e08-a40b-43cd-87c9-a6ebd29dc07c",
   "metadata": {},
   "source": [
    "The above code shows that are data has no null values. However, this does not mean that we have no missing data, as missing data can be \"unknown\" in categorical variables."
   ]
  },
  {
   "cell_type": "code",
   "execution_count": 83,
   "id": "1ba3ce83-67fa-4f04-a747-917f3e1b0760",
   "metadata": {},
   "outputs": [
    {
     "name": "stdout",
     "output_type": "stream",
     "text": [
      "job\n",
      "blue-collar      9732\n",
      "management       9458\n",
      "technician       7597\n",
      "admin.           5171\n",
      "services         4154\n",
      "retired          2264\n",
      "self-employed    1579\n",
      "entrepreneur     1487\n",
      "unemployed       1303\n",
      "housemaid        1240\n",
      "student           938\n",
      "unknown           288\n",
      "Name: count, dtype: int64\n",
      "marital\n",
      "married     27214\n",
      "single      12790\n",
      "divorced     5207\n",
      "Name: count, dtype: int64\n",
      "education\n",
      "secondary    23202\n",
      "tertiary     13301\n",
      "primary       6851\n",
      "unknown       1857\n",
      "Name: count, dtype: int64\n",
      "default\n",
      "no     44396\n",
      "yes      815\n",
      "Name: count, dtype: int64\n",
      "housing\n",
      "yes    25130\n",
      "no     20081\n",
      "Name: count, dtype: int64\n",
      "loan\n",
      "no     37967\n",
      "yes     7244\n",
      "Name: count, dtype: int64\n",
      "contact\n",
      "cellular     29285\n",
      "unknown      13020\n",
      "telephone     2906\n",
      "Name: count, dtype: int64\n",
      "day\n",
      "20    2752\n",
      "18    2308\n",
      "21    2026\n",
      "17    1939\n",
      "6     1932\n",
      "5     1910\n",
      "14    1848\n",
      "8     1842\n",
      "28    1830\n",
      "7     1817\n",
      "19    1757\n",
      "29    1745\n",
      "15    1703\n",
      "12    1603\n",
      "13    1585\n",
      "30    1566\n",
      "9     1561\n",
      "11    1479\n",
      "4     1445\n",
      "16    1415\n",
      "2     1293\n",
      "27    1121\n",
      "3     1079\n",
      "26    1035\n",
      "23     939\n",
      "22     905\n",
      "25     840\n",
      "31     643\n",
      "10     524\n",
      "24     447\n",
      "1      322\n",
      "Name: count, dtype: int64\n",
      "month\n",
      "may    13766\n",
      "jul     6895\n",
      "aug     6247\n",
      "jun     5341\n",
      "nov     3970\n",
      "apr     2932\n",
      "feb     2649\n",
      "jan     1403\n",
      "oct      738\n",
      "sep      579\n",
      "mar      477\n",
      "dec      214\n",
      "Name: count, dtype: int64\n",
      "poutcome\n",
      "unknown    36959\n",
      "failure     4901\n",
      "other       1840\n",
      "success     1511\n",
      "Name: count, dtype: int64\n"
     ]
    }
   ],
   "source": [
    "cat_vars = [\"job\", \"marital\", \"education\",\n",
    "            \"default\", \"housing\", \"loan\",\n",
    "            \"contact\", \"day\", \"month\",\n",
    "           \"poutcome\"]\n",
    "\n",
    "for x in cat_vars:\n",
    "    print(bank_data[x].value_counts())"
   ]
  },
  {
   "cell_type": "markdown",
   "id": "4b7a6d34-62e2-48ef-8649-a98c38c648ce",
   "metadata": {},
   "source": [
    "From the above output, we can see that \"job\", \"education\", \"contact\", and \"poutcome\" all have \"unknown\" values. These will either need to be imputed or removed from the data."
   ]
  },
  {
   "cell_type": "code",
   "execution_count": 105,
   "id": "4c41b0e1-fb7e-4387-b2d4-bd5d0fe28511",
   "metadata": {},
   "outputs": [],
   "source": [
    "# Convert all \"unknown\" values to null\n",
    "df = bank_data.replace(\"unknown\", np.nan)"
   ]
  },
  {
   "cell_type": "code",
   "execution_count": 107,
   "id": "b2b7f603-c373-455f-86aa-36541797b895",
   "metadata": {},
   "outputs": [
    {
     "data": {
      "text/plain": [
       "age              0\n",
       "job            288\n",
       "marital          0\n",
       "education     1857\n",
       "default          0\n",
       "balance          0\n",
       "housing          0\n",
       "loan             0\n",
       "contact      13020\n",
       "day              0\n",
       "month            0\n",
       "duration         0\n",
       "campaign         0\n",
       "pdays            0\n",
       "previous         0\n",
       "poutcome     36959\n",
       "y                0\n",
       "dtype: int64"
      ]
     },
     "execution_count": 107,
     "metadata": {},
     "output_type": "execute_result"
    }
   ],
   "source": [
    "df.isnull().sum()"
   ]
  },
  {
   "cell_type": "code",
   "execution_count": 111,
   "id": "d31b2ca2-17dc-425f-a0cf-fc7793a0a537",
   "metadata": {},
   "outputs": [
    {
     "data": {
      "image/png": "[encoded data removed]",
      "text/plain": [
       "<Figure size 2500x1000 with 2 Axes>"
      ]
     },
     "metadata": {},
     "output_type": "display_data"
    },
    {
     "data": {
      "text/plain": [
       "<Figure size 640x480 with 0 Axes>"
      ]
     },
     "metadata": {},
     "output_type": "display_data"
    }
   ],
   "source": [
    "# Plot missing values\n",
    "mn.matrix(df) \n",
    "plt.figure()\n",
    "plt.show()"
   ]
  },
  {
   "cell_type": "markdown",
   "id": "ba323619-4049-401e-a8f4-2d921b98888e",
   "metadata": {},
   "source": [
    "### Job"
   ]
  },
  {
   "cell_type": "markdown",
   "id": "8b4bf83b-82ff-4a9b-aeed-aa7a98991903",
   "metadata": {},
   "source": [
    "Given the fact that all missing data are labeled \"unkown\", it does not seem that the values are missing due to a mistake such as a recording error. It may be the case that these customers did not want to specify their occupation. It is also important to note that there is a factor level for unemployed customers, so we know that \"unknown\" does not mean \"unemployed\". Because very few data points are missing for this column, we will use KNN imputation to impute all missing values for job."
   ]
  },
  {
   "cell_type": "code",
   "execution_count": null,
   "id": "30b8104d-0830-4a70-8049-babb00e9f3c9",
   "metadata": {},
   "outputs": [],
   "source": []
  }
 ],
 "metadata": {
  "kernelspec": {
   "display_name": "Python [conda env:base]",
   "language": "python",
   "name": "conda-base-py"
  },
  "language_info": {
   "codemirror_mode": {
    "name": "ipython",
    "version": 3
   },
   "file_extension": ".py",
   "mimetype": "text/x-python",
   "name": "python",
   "nbconvert_exporter": "python",
   "pygments_lexer": "ipython3",
   "version": "3.12.2"
  }
 },
 "nbformat": 4,
 "nbformat_minor": 5
}
